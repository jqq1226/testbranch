{
 "cells": [
  {
   "cell_type": "code",
   "execution_count": 3,
   "metadata": {},
   "outputs": [],
   "source": [
    "import cv2\n",
    "import numpy as np\n",
    "from PIL import Image"
   ]
  },
  {
   "cell_type": "markdown",
   "metadata": {},
   "source": [
    "## 拟合多边形\n",
    "- cv2.approxPolyDP() 拟合为适合轮廓形状的多边形\n",
    "- 输入：\n",
    "    - InputArray curve：输入曲线，数据类型可以为vector<Point>。\n",
    "    - OutputArray approxCurve：输出折线，数据类型可以为vector<Point>。\n",
    "    - double epsilon：判断点到相对应的line segment 的距离的阈值。（距离大于此阈值则舍弃，小于此阈值则保留，epsilon越小，折线的形状越“接近”曲线。）\n",
    "    - bool closed：曲线是否闭合的标志位。\n",
    "- 返回值：\n",
    "    - 多边形角点坐标\n"
   ]
  },
  {
   "cell_type": "code",
   "execution_count": 7,
   "metadata": {},
   "outputs": [],
   "source": [
    "imgpath = 'sampleimage/1.png'\n",
    "image = cv2.imread(imgpath)\n",
    "gray = cv2.cvtColor(image,cv2.COLOR_BGR2GRAY)\n",
    "\n",
    "ret, binary = cv2.threshold(gray,127,255,cv2.THRESH_BINARY)  \n",
    "contours, hierarchy = cv2.findContours(binary,cv2.RETR_TREE,cv2.CHAIN_APPROX_SIMPLE)\n",
    "for cont in contours:\n",
    "    perimeter = cv2.arcLength(cont,True)\n",
    "    epsilon = 0.01*cv2.arcLength(cont,True)\n",
    "    box = cv2.approxPolyDP(cont,epsilon,True)\n",
    "    img = cv2.polylines(image,[box],True,(0,0,255),10)"
   ]
  },
  {
   "cell_type": "code",
   "execution_count": 9,
   "metadata": {},
   "outputs": [
    {
     "data": {
      "image/png": "[encoded data removed]",
      "text/plain": [
       "<PIL.Image.Image image mode=RGB size=180x129 at 0x7FF04B59FD68>"
      ]
     },
     "execution_count": 9,
     "metadata": {},
     "output_type": "execute_result"
    }
   ],
   "source": [
    "Image.fromarray(cv2.resize(img,(0,0), fx=0.3, fy=0.3))"
   ]
  },
  {
   "cell_type": "markdown",
   "metadata": {},
   "source": [
    "## 最小外接矩形cv2.minAreaRect()\n",
    "- 返回值：中心点坐标：(cx,cy)；长宽：(l,w)；从x轴逆时针旋转到宽的角度：theta\n",
    "- cv2.boxPoints()可以将minAreaRect转换为四个角点坐标"
   ]
  },
  {
   "cell_type": "code",
   "execution_count": 10,
   "metadata": {},
   "outputs": [],
   "source": [
    "imgpath = 'sampleimage/1.png'\n",
    "image = cv2.imread(imgpath)\n",
    "gray = cv2.cvtColor(image,cv2.COLOR_BGR2GRAY)\n",
    "\n",
    "ret, binary = cv2.threshold(gray,127,255,cv2.THRESH_BINARY)  \n",
    "contours, hierarchy = cv2.findContours(binary,cv2.RETR_TREE,cv2.CHAIN_APPROX_SIMPLE)\n",
    "for cont in contours:\n",
    "    rect = cv2.minAreaRect(cont)\n",
    "    box = cv2.boxPoints(rect)\n",
    "    # make clock-wise\n",
    "    startidx = box.sum(axis=1).argmin()\n",
    "    box = np.roll(box,4-startidx,0)\n",
    "    \n",
    "    box = box.reshape((-1,1,2)).astype(np.int32)\n",
    "    cv2.polylines(image,[box],True,(0,255,0),10)"
   ]
  },
  {
   "cell_type": "code",
   "execution_count": 11,
   "metadata": {},
   "outputs": [
    {
     "data": {
      "image/png": "[encoded data removed]",
      "text/plain": [
       "<PIL.Image.Image image mode=RGB size=180x129 at 0x7FF04B59F860>"
      ]
     },
     "execution_count": 11,
     "metadata": {},
     "output_type": "execute_result"
    }
   ],
   "source": [
    "Image.fromarray(cv2.resize(image,(0,0), fx=0.3, fy=0.3))"
   ]
  },
  {
   "cell_type": "markdown",
   "metadata": {},
   "source": [
    "## bounding box"
   ]
  },
  {
   "cell_type": "code",
   "execution_count": 12,
   "metadata": {},
   "outputs": [],
   "source": [
    "imgpath = 'sampleimage/1.png'\n",
    "image = cv2.imread(imgpath)\n",
    "gray = cv2.cvtColor(image,cv2.COLOR_BGR2GRAY)\n",
    "\n",
    "# image3 = np.zeros_like(image)\n",
    "ret, binary = cv2.threshold(gray,127,255,cv2.THRESH_BINARY)  \n",
    "contours, hierarchy = cv2.findContours(binary,cv2.RETR_TREE,cv2.CHAIN_APPROX_SIMPLE)\n",
    "for cont in contours:\n",
    "    x, y, w, h = cv2.boundingRect(cont)\n",
    "    cv2.rectangle(image, (x, y), (x+w, y+h), (0, 0, 255), 10)"
   ]
  },
  {
   "cell_type": "code",
   "execution_count": 14,
   "metadata": {},
   "outputs": [
    {
     "data": {
      "image/png": "[encoded data removed]",
      "text/plain": [
       "<PIL.Image.Image image mode=RGB size=180x129 at 0x7FF04B5B7160>"
      ]
     },
     "execution_count": 14,
     "metadata": {},
     "output_type": "execute_result"
    }
   ],
   "source": [
    "Image.fromarray(cv2.resize(image,(0,0), fx=0.3, fy=0.3))"
   ]
  },
  {
   "cell_type": "markdown",
   "metadata": {},
   "source": [
    "## 外接圆\n",
    "- cv2.minEnclosingCircle()"
   ]
  },
  {
   "cell_type": "code",
   "execution_count": 15,
   "metadata": {},
   "outputs": [],
   "source": [
    "imgpath = 'sampleimage/1.png'\n",
    "image = cv2.imread(imgpath)\n",
    "gray = cv2.cvtColor(image,cv2.COLOR_BGR2GRAY)\n",
    "\n",
    "# image3 = np.zeros_like(image)\n",
    "ret, binary = cv2.threshold(gray,127,255,cv2.THRESH_BINARY)  \n",
    "contours, hierarchy = cv2.findContours(binary,cv2.RETR_TREE,cv2.CHAIN_APPROX_SIMPLE)\n",
    "for cont in contours:\n",
    "    (x, y), radius = cv2.minEnclosingCircle(cont)\n",
    "    cv2.circle(image,(int(x),int(y)),int(radius), (0, 0, 255), 10)"
   ]
  },
  {
   "cell_type": "code",
   "execution_count": 16,
   "metadata": {},
   "outputs": [
    {
     "data": {
      "image/png": "[encoded data removed]",
      "text/plain": [
       "<PIL.Image.Image image mode=RGB size=180x129 at 0x7FF04B5B7208>"
      ]
     },
     "execution_count": 16,
     "metadata": {},
     "output_type": "execute_result"
    }
   ],
   "source": [
    "Image.fromarray(cv2.resize(image,(0,0), fx=0.3, fy=0.3))"
   ]
  },
  {
   "cell_type": "markdown",
   "metadata": {},
   "source": [
    "##  外接椭圆\n",
    "- cv2.minEllipse()"
   ]
  },
  {
   "cell_type": "code",
   "execution_count": 17,
   "metadata": {},
   "outputs": [],
   "source": [
    "imgpath = 'sampleimage/1.png'\n",
    "image = cv2.imread(imgpath)\n",
    "gray = cv2.cvtColor(image,cv2.COLOR_BGR2GRAY)\n",
    "\n",
    "\n",
    "ret, binary = cv2.threshold(gray,127,255,cv2.THRESH_BINARY)  \n",
    "contours, hierarchy = cv2.findContours(binary,cv2.RETR_TREE,cv2.CHAIN_APPROX_SIMPLE)\n",
    "for cont in contours:\n",
    "#     (x,y), (a,b), theta = cv2.fitEllipse(cont)\n",
    "#     cv2.ellipse(image,(int(x),int(y)),(int(a/2),int(b/2)),theta,-180,180,(255,100,0),10)\n",
    "    out = cv2.fitEllipse(cont)\n",
    "    cv2.ellipse(image,out,(255,100,0),10)"
   ]
  },
  {
   "cell_type": "code",
   "execution_count": 18,
   "metadata": {},
   "outputs": [
    {
     "data": {
      "image/png": "[encoded data removed]",
      "text/plain": [
       "<PIL.Image.Image image mode=RGB size=180x129 at 0x7FF04B5B7048>"
      ]
     },
     "execution_count": 18,
     "metadata": {},
     "output_type": "execute_result"
    }
   ],
   "source": [
    "Image.fromarray(cv2.resize(image,(0,0), fx=0.3, fy=0.3))"
   ]
  },
  {
   "cell_type": "code",
   "execution_count": null,
   "metadata": {},
   "outputs": [],
   "source": []
  }
 ],
 "metadata": {
  "kernelspec": {
   "display_name": "Python 3",
   "language": "python",
   "name": "python3"
  },
  "language_info": {
   "codemirror_mode": {
    "name": "ipython",
    "version": 3
   },
   "file_extension": ".py",
   "mimetype": "text/x-python",
   "name": "python",
   "nbconvert_exporter": "python",
   "pygments_lexer": "ipython3",
   "version": "3.6.12"
  }
 },
 "nbformat": 4,
 "nbformat_minor": 4
}
